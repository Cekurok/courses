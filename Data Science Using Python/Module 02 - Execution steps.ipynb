{
 "cells": [
  {
   "cell_type": "markdown",
   "metadata": {},
   "source": [
    "# Table of Contents\n",
    "\n",
    "2. [Execution steps](#head2) <br>\n",
    "    2.1 [Interactive Shell](#head2.1) <br>\n",
    "    2.2 [Executable or script files](#head2.2) <br>\n",
    "    2.3 [User Interface or IDE](#head2.3) <br>"
   ]
  },
  {
   "cell_type": "markdown",
   "metadata": {},
   "source": [
    "<a id =\"head2\"></a> \n",
    "# Execution steps\n"
   ]
  },
  {
   "cell_type": "markdown",
   "metadata": {},
   "source": [
    "<a id =\"head2.1\"></a> \n",
    "## Interactive Shell\n"
   ]
  },
  {
   "cell_type": "markdown",
   "metadata": {},
   "source": [
    "### Advantages:\n",
    "- If you want to know how something works, you can just try it.\n",
    "- You can use it as a calculator.\n",
    "- If you want to know anything about an object, you can just do dir(object).\n",
    "- help(anything) for documentation.\n",
    "- you can time stuff using %timeit.\n",
    "- Debugging. You don't need to put selective print statements in code to see what variables are when you write it in the interpreter. "
   ]
  },
  {
   "cell_type": "markdown",
   "metadata": {},
   "source": [
    "<a id =\"head2.2\"></a> \n",
    "## Executable or script files"
   ]
  },
  {
   "cell_type": "markdown",
   "metadata": {},
   "source": [
    "### create scripts \n",
    "- open an editor or ide for python and save as .py extension\n",
    "\n",
    "### create executable from scripts\n",
    "- install the pyinstaller using pip <br>\n",
    " ```$ pip install pyinstaller```\n",
    "\n",
    "- pyinstaller --onefile <python-file-name> <br>\n",
    "```$ pyinstaller --onefile test.py```"
   ]
  },
  {
   "cell_type": "markdown",
   "metadata": {},
   "source": [
    "<a id =\"head2.3\"></a>\n",
    "## User Interface or IDE"
   ]
  },
  {
   "cell_type": "markdown",
   "metadata": {},
   "source": [
    "- User level install of the version of python you want\n",
    "- Able to install/update packages completely independent of system libraries or admin privileges\n",
    "- Edit, compile and debug in one place."
   ]
  }
 ],
 "metadata": {
  "kernelspec": {
   "display_name": "Python 3",
   "language": "python",
   "name": "python3"
  },
  "language_info": {
   "codemirror_mode": {
    "name": "ipython",
    "version": 3
   },
   "file_extension": ".py",
   "mimetype": "text/x-python",
   "name": "python",
   "nbconvert_exporter": "python",
   "pygments_lexer": "ipython3",
   "version": "3.6.5"
  }
 },
 "nbformat": 4,
 "nbformat_minor": 2
}
