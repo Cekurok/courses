{
 "cells": [
  {
   "cell_type": "markdown",
   "metadata": {},
   "source": [
    "## 9. Pandas Section\n",
    "## Python Pandas – Introduction\n",
    "## Introduction to Data Structures\n",
    "## Python Pandas – Series\n",
    "## Python Pandas – DataFrame\n",
    "## Python Pandas – Basic Functionality\n",
    "## Python Pandas – Descriptive Statistics\n",
    "## Python Pandas – Indexing and Selecting Data\n",
    "## Python Pandas – Function Application\n",
    "## Python Pandas – Reindexing\n",
    "## Python Pandas – Iteration\n",
    "## Python Pandas – Sorting\n",
    "## Python Pandas – Working with Text Data\n",
    "## Python Pandas – Options and Customization\n",
    "## Python Pandas – Missing Data\n",
    "## Python Pandas – GroupBy\n",
    "## Python Pandas – Merging/Joining\n",
    "## Python Pandas – Concatenation\n",
    "## Python Pandas – IO Tools\n",
    "## Python Pandas – Comparison with SQL\n",
    "## Python Pandas – Dates Conversion\n",
    "## Plotting Data"
   ]
  },
  {
   "cell_type": "code",
   "execution_count": null,
   "metadata": {},
   "outputs": [],
   "source": []
  }
 ],
 "metadata": {
  "kernelspec": {
   "display_name": "Python 3",
   "language": "python",
   "name": "python3"
  },
  "language_info": {
   "codemirror_mode": {
    "name": "ipython",
    "version": 3
   },
   "file_extension": ".py",
   "mimetype": "text/x-python",
   "name": "python",
   "nbconvert_exporter": "python",
   "pygments_lexer": "ipython3",
   "version": "3.6.5"
  }
 },
 "nbformat": 4,
 "nbformat_minor": 2
}
