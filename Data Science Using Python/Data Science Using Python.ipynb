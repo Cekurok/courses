{
 "cells": [
  {
   "cell_type": "markdown",
   "metadata": {},
   "source": [
    "# 1. Introduction"
   ]
  },
  {
   "cell_type": "markdown",
   "metadata": {},
   "source": [
    "## Why do we need Python?"
   ]
  },
  {
   "cell_type": "markdown",
   "metadata": {},
   "source": [
    "- Easy to learn\n",
    "- Easy to read\n",
    "- Easy to maintain\n",
    "- A broad standard library\n",
    "- Interactive Mode\n",
    "- Portable \n",
    "- Extendable\n",
    "- Scalable"
   ]
  },
  {
   "cell_type": "markdown",
   "metadata": {},
   "source": [
    "## Program structure"
   ]
  },
  {
   "cell_type": "markdown",
   "metadata": {},
   "source": [
    "- functional \n",
    "- structured \n",
    "- OOP"
   ]
  },
  {
   "cell_type": "markdown",
   "metadata": {},
   "source": [
    "# 2. Execution steps\n"
   ]
  },
  {
   "cell_type": "markdown",
   "metadata": {},
   "source": [
    "## Interactive Shell\n"
   ]
  },
  {
   "cell_type": "markdown",
   "metadata": {},
   "source": [
    "### Advantages:\n",
    "- If you want to know how something works, you can just try it.\n",
    "- You can use it as a calculator.\n",
    "- If you want to know anything about an object, you can just do dir(object).\n",
    "- help(anything) for documentation.\n",
    "- you can time stuff using %timeit.\n",
    "- Debugging. You don't need to put selective print statements in code to see what variables are when you write it in the interpreter. "
   ]
  },
  {
   "cell_type": "markdown",
   "metadata": {},
   "source": [
    "## Executable or script files\n"
   ]
  },
  {
   "cell_type": "markdown",
   "metadata": {},
   "source": [
    "### create scripts \n",
    "- open an editor or ide for python and save as .py extension\n",
    "\n",
    "### create executable from scripts\n",
    "- install the pyinstaller using pip <br>\n",
    " ```$ pip install pyinstaller```\n",
    "\n",
    "- pyinstaller --onefile <python-file-name> <br>\n",
    "```$ pyinstaller --onefile test.py```"
   ]
  },
  {
   "cell_type": "markdown",
   "metadata": {},
   "source": [
    "## User Interface or IDE"
   ]
  },
  {
   "cell_type": "markdown",
   "metadata": {},
   "source": [
    "- User level install of the version of python you want\n",
    "- Able to install/update packages completely independent of system libraries or admin privileges\n",
    "- Edit, compile and debug in one place."
   ]
  },
  {
   "cell_type": "markdown",
   "metadata": {},
   "source": [
    "# 3. Memory management and Garbage collections\n",
    "\n"
   ]
  },
  {
   "cell_type": "markdown",
   "metadata": {},
   "source": [
    "## Object creation and deletion"
   ]
  },
  {
   "cell_type": "markdown",
   "metadata": {},
   "source": [
    "1. Objects are Python’s abstraction for data.\n",
    "1. All data in a Python program is represented by objects or by relations between objects.\n",
    "1. Every object has an identity, a type and a value."
   ]
  },
  {
   "cell_type": "markdown",
   "metadata": {},
   "source": [
    "## The standard type hierarchy"
   ]
  },
  {
   "cell_type": "markdown",
   "metadata": {},
   "source": [
    "1. None\n",
    "1. NotImplemented\n",
    "1. Ellipsis\n",
    "1. numbers.Number\n",
    "    1. numbers.Integral\n",
    "        1. Integers (int)\n",
    "        1. Booleans (bool)\n",
    "    1. numbers.Real (float)\n",
    "    1. numbers.Complex (complex)\n",
    "1. Sequences\n",
    "    1. Immutable sequences\n",
    "        1. Strings\n",
    "        1. Tuples\n",
    "        1. Bytes\n",
    "    1. Mutable sequences\n",
    "        1. Lists\n",
    "        1. Byte Arrays\n",
    "1. Set types\n",
    "    1. Sets\n",
    "    1. Frozen sets\n",
    "1. Mappings\n",
    "    1. Dictionaries\n",
    "1. Callable types\n",
    "    1. User-defined functions\n",
    "    1. Instance methods\n",
    "    1. Generator functions\n",
    "    1. Coroutine functions\n",
    "    1. Asynchronous generator functions\n",
    "    1. Built-in functions\n",
    "    1. Built-in methods\n",
    "    1. Classes\n",
    "    1. Class Instances\n",
    "1. Modules\n",
    "1. Custom classes\n",
    "1. Class instances\n",
    "1. I/O objects (also known as file objects)\n",
    "1. Internal types\n",
    "    1. Code objects\n",
    "    1. Frame objects\n",
    "    1. Traceback objects\n",
    "    1. Slice objects\n",
    "    1. Static method objects\n",
    "    1. Class method objects\n"
   ]
  },
  {
   "cell_type": "markdown",
   "metadata": {},
   "source": [
    "## Object properties"
   ]
  },
  {
   "cell_type": "code",
   "execution_count": null,
   "metadata": {},
   "outputs": [],
   "source": []
  },
  {
   "cell_type": "markdown",
   "metadata": {},
   "source": [
    "# 4. Data Types and Operations\n",
    "\n",
    "\n"
   ]
  },
  {
   "cell_type": "markdown",
   "metadata": {},
   "source": [
    "## Numbers"
   ]
  },
  {
   "cell_type": "markdown",
   "metadata": {},
   "source": [
    "1. numbers.Number\n",
    "    1. numbers.Integral\n",
    "        1. Integers (int)\n",
    "        1. Booleans (bool)\n",
    "    1. numbers.Real (float)\n",
    "    1. numbers.Complex (complex)"
   ]
  },
  {
   "cell_type": "markdown",
   "metadata": {},
   "source": [
    "## Strings"
   ]
  },
  {
   "cell_type": "markdown",
   "metadata": {},
   "source": [
    "### Create String\n"
   ]
  },
  {
   "cell_type": "code",
   "execution_count": 10,
   "metadata": {},
   "outputs": [
    {
     "name": "stdout",
     "output_type": "stream",
     "text": [
      "this is single quote string\n",
      "this is a sample string\n",
      "\n",
      "       this \n",
      "       is \n",
      "       multi line\n",
      "       string \n"
     ]
    }
   ],
   "source": [
    "# single quote\n",
    "st1 = 'this is single quote string'\n",
    "print(st1)\n",
    "\n",
    "# double quote \n",
    "st2 = \"this is a double quote string\"\n",
    "print(st2)\n",
    "\n",
    "# triple quote multi-line string\n",
    "st3 = '''\n",
    "       this \n",
    "       is \n",
    "       multi line\n",
    "       string '''\n",
    "print(st3)"
   ]
  },
  {
   "cell_type": "markdown",
   "metadata": {},
   "source": [
    "### Important Methods"
   ]
  },
  {
   "cell_type": "code",
   "execution_count": 23,
   "metadata": {},
   "outputs": [
    {
     "name": "stdout",
     "output_type": "stream",
     "text": [
      "initial string : this is sample string\n",
      "capitilize method : This is sample string\n",
      "count method : 2\n",
      "endswith method : True\n",
      "find method : 2\n",
      "format method : first second\n"
     ]
    }
   ],
   "source": [
    "st = \"this is sample string\"\n",
    "print(\"initial string : \" + st)\n",
    "\n",
    "# capitilize method\n",
    "print(\"capitilize method : \" + st.capitalize())\n",
    "\n",
    "# count method\n",
    "print(\"count method : \" + str(st.count(\"is\")))\n",
    "\n",
    "# endswith method\n",
    "print(\"endswith method : \" + str(st.endswith(\"string\")))\n",
    "\n",
    "# find method\n",
    "print(\"find method : \" + str(st.find(\"is\")))\n",
    "\n",
    "# format method\n",
    "print(\"format method : {0} {1}\".format(\"first\", \"second\"))\n",
    "\n",
    "# index method\n",
    "\n",
    "# join method\n",
    "\n",
    "# partition method\n",
    "\n",
    "# replace method\n",
    "\n",
    "# split method \n",
    "\n",
    "# strip method\n",
    "\n",
    "# zfill method"
   ]
  },
  {
   "cell_type": "markdown",
   "metadata": {},
   "source": [
    "## List\n"
   ]
  },
  {
   "cell_type": "markdown",
   "metadata": {},
   "source": [
    "### Important Methods"
   ]
  },
  {
   "cell_type": "code",
   "execution_count": null,
   "metadata": {},
   "outputs": [],
   "source": [
    "# append method\n",
    "\n",
    "# clear method\n",
    "\n",
    "# copy method\n",
    "\n",
    "# extend method\n",
    "\n",
    "# insert method\n",
    "\n",
    "# pop method\n",
    "\n",
    "# remove method\n",
    "\n",
    "# reverse method"
   ]
  },
  {
   "cell_type": "markdown",
   "metadata": {},
   "source": [
    "## Tuple\n"
   ]
  },
  {
   "cell_type": "code",
   "execution_count": null,
   "metadata": {},
   "outputs": [],
   "source": [
    "# append method\n",
    "\n",
    "# clear method\n",
    "\n",
    "# copy method\n",
    "\n",
    "# extend method\n",
    "\n",
    "# insert method\n",
    "\n",
    "# pop method\n",
    "\n",
    "# remove method\n",
    "\n",
    "# reverse method"
   ]
  },
  {
   "cell_type": "markdown",
   "metadata": {},
   "source": [
    "## Dictionary\n"
   ]
  },
  {
   "cell_type": "code",
   "execution_count": null,
   "metadata": {},
   "outputs": [],
   "source": [
    "# append method\n",
    "\n",
    "# clear method\n",
    "\n",
    "# copy method\n",
    "\n",
    "# extend method\n",
    "\n",
    "# insert method\n",
    "\n",
    "# pop method\n",
    "\n",
    "# remove method\n",
    "\n",
    "# reverse method"
   ]
  },
  {
   "cell_type": "markdown",
   "metadata": {},
   "source": [
    "## Set\n"
   ]
  },
  {
   "cell_type": "code",
   "execution_count": null,
   "metadata": {},
   "outputs": [],
   "source": [
    "# append method\n",
    "\n",
    "# clear method\n",
    "\n",
    "# copy method\n",
    "\n",
    "# extend method\n",
    "\n",
    "# insert method\n",
    "\n",
    "# pop method\n",
    "\n",
    "# remove method\n",
    "\n",
    "# reverse method"
   ]
  },
  {
   "cell_type": "markdown",
   "metadata": {},
   "source": [
    "## Other Core Types\n"
   ]
  },
  {
   "cell_type": "code",
   "execution_count": null,
   "metadata": {},
   "outputs": [],
   "source": []
  },
  {
   "cell_type": "markdown",
   "metadata": {},
   "source": [
    "## Conversion between data types"
   ]
  },
  {
   "cell_type": "code",
   "execution_count": null,
   "metadata": {},
   "outputs": [],
   "source": []
  },
  {
   "cell_type": "markdown",
   "metadata": {},
   "source": [
    "# 5. Statements and Syntax\n",
    "## Assignments, Expressions and prints\n",
    "## If tests and Syntax Rules\n",
    "## While and For Loops\n",
    "## Break and continue"
   ]
  },
  {
   "cell_type": "markdown",
   "metadata": {},
   "source": [
    "# 6. File Operations\n",
    "## Opening a file\n",
    "## Using Files – txt ,Csv, Xlsx\n",
    "## How to connect MySQL\n",
    "## Find and replace\n",
    "## Appending to file\n",
    "## Exporting file"
   ]
  },
  {
   "cell_type": "markdown",
   "metadata": {},
   "source": [
    "# 7. Functions\n",
    "## Function definition and call\n",
    "## Function Scope\n",
    "## Arguments\n",
    "## Function Objects\n",
    "## Anonymous Functions\n",
    "## Packaging Importing"
   ]
  },
  {
   "cell_type": "markdown",
   "metadata": {},
   "source": [
    "\n",
    "## 8. OOPS\n",
    "## Classes and Objects\n",
    "## Creating object\n",
    "## Working with Class and Instance Variables Together\n",
    "## Accessing Object Variables\n",
    "## Accessing Object Functions\n",
    "## Inheritance\n",
    "## Multiple Inheritance\n",
    "## Constructor\n",
    "## Operator Overloading\n",
    "## Polymorphism\n",
    "## Encapsulation\n",
    "## Abstract class and methods"
   ]
  },
  {
   "cell_type": "markdown",
   "metadata": {},
   "source": [
    "## 9. Pandas Section\n",
    "## Python Pandas – Introduction\n",
    "## Introduction to Data Structures\n",
    "## Python Pandas – Series\n",
    "## Python Pandas – DataFrame\n",
    "## Python Pandas – Basic Functionality\n",
    "## Python Pandas – Descriptive Statistics\n",
    "## Python Pandas – Indexing and Selecting Data\n",
    "## Python Pandas – Function Application\n",
    "## Python Pandas – Reindexing\n",
    "## Python Pandas – Iteration\n",
    "## Python Pandas – Sorting\n",
    "## Python Pandas – Working with Text Data\n",
    "## Python Pandas – Options and Customization\n",
    "## Python Pandas – Missing Data\n",
    "## Python Pandas – GroupBy\n",
    "## Python Pandas – Merging/Joining\n",
    "## Python Pandas – Concatenation\n",
    "## Python Pandas – IO Tools\n",
    "## Python Pandas – Comparison with SQL\n",
    "## Python Pandas – Dates Conversion\n",
    "## Plotting Data"
   ]
  },
  {
   "cell_type": "markdown",
   "metadata": {},
   "source": [
    "## 10. Machine Learning Techniques\n",
    "## All algorithm will be explain by\n",
    "## What is mathematics behind it\n",
    "## Which scenario want to use\n",
    "## How it is different from other algorithm\n",
    "## How to interpret with Python\n",
    "## What insights getting out from result\n",
    "## Hypothesis Testing\n",
    "## Correlation\n",
    "## Outlier Detection\n",
    "## T-test\n",
    "## Anova\n",
    "## Chi-square\n",
    "## Linear regression\n",
    "## Multiple regression\n",
    "## Logistics Regression\n",
    "## Naïve Bayes classifier\n",
    "## K means clustering\n",
    "## Decision tree\n",
    "## SVM\n",
    "## Time series forecasting Overview"
   ]
  },
  {
   "cell_type": "code",
   "execution_count": null,
   "metadata": {},
   "outputs": [],
   "source": []
  }
 ],
 "metadata": {
  "kernelspec": {
   "display_name": "Python 3",
   "language": "python",
   "name": "python3"
  },
  "language_info": {
   "codemirror_mode": {
    "name": "ipython",
    "version": 3
   },
   "file_extension": ".py",
   "mimetype": "text/x-python",
   "name": "python",
   "nbconvert_exporter": "python",
   "pygments_lexer": "ipython3",
   "version": "3.6.5"
  }
 },
 "nbformat": 4,
 "nbformat_minor": 2
}
