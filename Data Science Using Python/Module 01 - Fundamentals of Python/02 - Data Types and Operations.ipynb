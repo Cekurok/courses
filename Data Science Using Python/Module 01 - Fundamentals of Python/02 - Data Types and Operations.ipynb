{
 "cells": [
  {
   "cell_type": "markdown",
   "metadata": {},
   "source": [
    "# 4. Data Types and Operations\n",
    "4.1 [Numbers](#h4.1)<br>\n",
    "4.2 [Strings](#h4.2)<br>\n",
    "4.3 [List](#h4.3)<br>\n",
    "4.4 [Tuple](#h4.4)<br>\n",
    "4.5 [Dictionary](#h4.5)<br>\n",
    "4.6 [Set](#h4.6)<br>\n",
    "4.7 [Other Core Types](#h4.8)<br>\n",
    "4.8 [Conversion between data types](#h4.8)<br>\n"
   ]
  },
  {
   "cell_type": "markdown",
   "metadata": {},
   "source": [
    "<a id = \"h4.1\"> </a>\n",
    "## 4.1 Numbers"
   ]
  },
  {
   "cell_type": "markdown",
   "metadata": {},
   "source": [
    "1. numbers.Number\n",
    "    1. numbers.Integral\n",
    "        1. Integers (int)\n",
    "        1. Booleans (bool)\n",
    "    1. numbers.Real (float)\n",
    "    1. numbers.Complex (complex)"
   ]
  },
  {
   "cell_type": "code",
   "execution_count": 7,
   "metadata": {},
   "outputs": [
    {
     "name": "stdout",
     "output_type": "stream",
     "text": [
      "type : <class 'int'> value : 10\n",
      "type : <class 'bool'> value : True\n",
      "type : <class 'float'> value : 10.5\n",
      "type : <class 'complex'> value : (10+6j)\n"
     ]
    }
   ],
   "source": [
    "# integer \n",
    "a = 10\n",
    "print(\"type : \" + str(type(a)) + \" value : \" + str(a))\n",
    "\n",
    "# boolean\n",
    "a = True\n",
    "print(\"type : \" + str(type(a)) + \" value : \" + str(a))\n",
    "\n",
    "# float\n",
    "a = 10.5\n",
    "print(\"type : \" + str(type(a)) + \" value : \" + str(a))\n",
    "\n",
    "# complex number\n",
    "a = 10 + 6j\n",
    "print(\"type : \" + str(type(a)) + \" value : \" + str(a))"
   ]
  },
  {
   "cell_type": "markdown",
   "metadata": {},
   "source": [
    "<a id = \"h4.2\"> </a>\n",
    "## 4.2 Strings"
   ]
  },
  {
   "cell_type": "markdown",
   "metadata": {},
   "source": [
    "### Create String\n"
   ]
  },
  {
   "cell_type": "code",
   "execution_count": 10,
   "metadata": {},
   "outputs": [
    {
     "name": "stdout",
     "output_type": "stream",
     "text": [
      "this is single quote string\n",
      "this is a sample string\n",
      "\n",
      "       this \n",
      "       is \n",
      "       multi line\n",
      "       string \n"
     ]
    }
   ],
   "source": [
    "# single quote\n",
    "st1 = 'this is single quote string'\n",
    "print(st1)\n",
    "\n",
    "# double quote \n",
    "st2 = \"this is a double quote string\"\n",
    "print(st2)\n",
    "\n",
    "# triple quote multi-line string\n",
    "st3 = '''\n",
    "       this \n",
    "       is \n",
    "       multi line\n",
    "       string '''\n",
    "print(st3)"
   ]
  },
  {
   "cell_type": "markdown",
   "metadata": {},
   "source": [
    "### Important Methods"
   ]
  },
  {
   "cell_type": "code",
   "execution_count": 28,
   "metadata": {
    "scrolled": true
   },
   "outputs": [
    {
     "name": "stdout",
     "output_type": "stream",
     "text": [
      "initial string : this is sample string\n",
      "capitilize method : This is sample string\n",
      "count method : 2\n",
      "endswith method : True\n",
      "find method : 2\n",
      "format method : first second\n",
      "index method : 8\n",
      "join method : t-h-i-s- -i-s- -s-a-m-p-l-e- -s-t-r-i-n-g\n",
      "partition method : ('this', ' ', 'is sample string')\n",
      "replace method : thzz zz sample string\n",
      "split method : ['this', 'is', 'sample', 'string']\n",
      "this   spacioushello\n",
      "thisspacious   hello\n",
      "thisspacioushello\n",
      "zfill method : 00042\n"
     ]
    }
   ],
   "source": [
    "st = \"this is sample string\"\n",
    "print(\"initial string : \" + st)\n",
    "\n",
    "# capitilize method\n",
    "print(\"capitilize method : \" + st.capitalize())\n",
    "\n",
    "# count method\n",
    "print(\"count method : \" + str(st.count(\"is\")))\n",
    "\n",
    "# endswith method\n",
    "print(\"endswith method : \" + str(st.endswith(\"string\")))\n",
    "\n",
    "# find method\n",
    "print(\"find method : \" + str(st.find(\"is\")))\n",
    "\n",
    "# format method\n",
    "print(\"format method : {0} {1}\".format(\"first\", \"second\"))\n",
    "\n",
    "# index method\n",
    "print(\"index method : \" + str(st.index(\"sa\")))\n",
    "\n",
    "# join method\n",
    "print(\"join method : \" + \"-\".join(st))\n",
    "\n",
    "# partition method\n",
    "st = \"this is sample string\"\n",
    "print(\"partition method : \" + str(st.partition(\" \")))\n",
    "\n",
    "# replace method\n",
    "st = \"this is sample string\"\n",
    "print(\"replace method : \" + str(st.replace(\"is\", \"zz\")))\n",
    "\n",
    "# split method\n",
    "st = \"this is sample string\"\n",
    "print(\"split method : \" + str(st.split(\" \")))\n",
    "\n",
    "# strip method\n",
    "print(\"this\" + '   spacious   '.rstrip() + \"hello\")\n",
    "print(\"this\" + '   spacious   '.lstrip() + \"hello\")\n",
    "print(\"this\" + '   spacious   '.strip() + \"hello\")\n",
    "\n",
    "# zfill method\n",
    "print(\"zfill method : \" + str(\"42\".zfill(5)))"
   ]
  },
  {
   "cell_type": "markdown",
   "metadata": {},
   "source": [
    "<a id = \"h4.3\"> </a>\n",
    "## 4.3 List"
   ]
  },
  {
   "cell_type": "code",
   "execution_count": 36,
   "metadata": {},
   "outputs": [
    {
     "name": "stdout",
     "output_type": "stream",
     "text": [
      "List : []\n",
      "List : [1, 2, 3]\n",
      "List : [1, 'Hello', 3.4]\n"
     ]
    }
   ],
   "source": [
    "# empty list\n",
    "my_list = list()\n",
    "print(\"List : \" + str(my_list))\n",
    "\n",
    "# list of integers\n",
    "my_list = [1, 2, 3]\n",
    "print(\"List : \" + str(my_list))\n",
    "\n",
    "# list with mixed datatypes\n",
    "my_list = [1, \"Hello\", 3.4]\n",
    "print(\"List : \" + str(my_list))"
   ]
  },
  {
   "cell_type": "markdown",
   "metadata": {},
   "source": [
    "### Important Operations"
   ]
  },
  {
   "cell_type": "code",
   "execution_count": 37,
   "metadata": {},
   "outputs": [
    {
     "name": "stdout",
     "output_type": "stream",
     "text": [
      "data1 : [1, 2, 3, 4, 5]\n",
      "in : result : False\n",
      "not in : result : True\n",
      "concatenation : result : [1, 2, 3, 4, 5, 6, 7, 8, 9, 10]\n",
      "n times : result : [1, 2, 3, 4, 5, 1, 2, 3, 4, 5, 1, 2, 3, 4, 5]\n",
      "access : result : 3\n",
      "slicing : result : [3, 4]\n",
      "slicing with steps : result : [1, 3, 5]\n",
      "length : result : 5\n",
      "min : result : 1\n",
      "max : result : 5\n",
      "index : result : 1\n",
      "count : result : 1\n",
      "append : result : [1, 2, 3, 4, 5, 6]\n",
      "copy : result : [1, 2, 3, 4, 5, 6]\n",
      "clear : result : []\n",
      "extend : result : [1, 2, 3, 4, 5, 6, 1, 2, 3, 4, 5, 6]\n",
      "insert : result : [1, 7, 2, 3, 4, 5, 6]\n",
      "pop : result : [1, 7, 2, 3, 4, 5]\n",
      "remove : result : [1, 7, 2, 4, 5]\n",
      "reverse : result : [5, 4, 2, 7, 1]\n"
     ]
    }
   ],
   "source": [
    "data1 = [1, 2, 3, 4, 5]\n",
    "data2 = [6, 7, 8, 9, 10]\n",
    "\n",
    "print(\"data1 : \" + str(data1))\n",
    "\n",
    "# in operation\n",
    "result = 6 in data1\n",
    "print(\"in : result : \" + str(result))\n",
    "\n",
    "# not in operation\n",
    "result = 6 not in data1\n",
    "print(\"not in : result : \" + str(result))\n",
    "\n",
    "# concatenation operation\n",
    "result = data1 + data2\n",
    "print(\"concatenation : result : \" + str(result))\n",
    "\n",
    "# n times operation, here n = 3\n",
    "result = data1 * 3\n",
    "print(\"n times : result : \" + str(result))\n",
    "\n",
    "# access an element\n",
    "result = data1\n",
    "print(\"access : result : \" + str(result[2]))\n",
    "\n",
    "# slicing\n",
    "result = data1[2:4]\n",
    "print(\"slicing : result : \" + str(result))\n",
    "\n",
    "# slicing with n-steps, here n = 2\n",
    "result = data1[0:5:2]\n",
    "print(\"slicing with steps : result : \" + str(result))\n",
    "\n",
    "# length\n",
    "result = data1\n",
    "print(\"length : result : \" + str(len(result)))\n",
    "\n",
    "# min\n",
    "print(\"min : result : \" + str(min(result)))\n",
    "\n",
    "# max\n",
    "print(\"max : result : \" + str(max(result)))\n",
    "\n",
    "# index\n",
    "print(\"index : result : \" + str(result.index(2)))\n",
    "\n",
    "# count\n",
    "print(\"count : result : \" + str(result.count(2)))\n",
    "\n",
    "# append\n",
    "result.append(6)\n",
    "print(\"append : result : \" + str(result))\n",
    "\n",
    "# copy\n",
    "result = data1.copy()\n",
    "print(\"copy : result : \" + str(result))\n",
    "\n",
    "# clear\n",
    "result.clear()\n",
    "print(\"clear : result : \" + str(result))\n",
    "\n",
    "# extend\n",
    "result = data1.copy()\n",
    "result.extend(data1)\n",
    "print(\"extend : result : \" + str(result))\n",
    "\n",
    "# insert\n",
    "result = data1.copy()\n",
    "result.insert(1, 7)\n",
    "print(\"insert : result : \" + str(result))\n",
    "\n",
    "# pop\n",
    "result.pop()\n",
    "print(\"pop : result : \" + str(result))\n",
    "\n",
    "# remove\n",
    "result.remove(3)\n",
    "print(\"remove : result : \" + str(result))\n",
    "\n",
    "# reverse\n",
    "result.reverse()\n",
    "print(\"reverse : result : \" + str(result))"
   ]
  },
  {
   "cell_type": "markdown",
   "metadata": {},
   "source": [
    "<a id = \"h4.4\"> </a>\n",
    "## 4.4 Tuple"
   ]
  },
  {
   "cell_type": "code",
   "execution_count": 46,
   "metadata": {},
   "outputs": [
    {
     "name": "stdout",
     "output_type": "stream",
     "text": [
      "Tuple : ()\n",
      "List : (1, 2, 3)\n",
      "List : (1, 'Hello', 3.4)\n"
     ]
    }
   ],
   "source": [
    "# empty tuple\n",
    "my_tuple = tuple()\n",
    "print(\"Tuple : \" + str(my_tuple))\n",
    "\n",
    "# tuple of integers\n",
    "my_tuple = (1, 2, 3)\n",
    "print(\"Tuple : \" + str(my_tuple))\n",
    "\n",
    "# tuple with mixed datatypes\n",
    "my_tuple = (1, \"Hello\", 3.4)\n",
    "print(\"Tuple : \" + str(my_tuple))"
   ]
  },
  {
   "cell_type": "markdown",
   "metadata": {},
   "source": [
    "## Important Operations in Tuple"
   ]
  },
  {
   "cell_type": "code",
   "execution_count": 45,
   "metadata": {},
   "outputs": [
    {
     "name": "stdout",
     "output_type": "stream",
     "text": [
      "data1 : (1, 2, 3, 4, 5)\n",
      "in : result : False\n",
      "not in : result : True\n",
      "concatenation : result : (1, 2, 3, 4, 5, 6, 7, 8, 9, 10)\n",
      "n times : result : (1, 2, 3, 4, 5, 1, 2, 3, 4, 5, 1, 2, 3, 4, 5)\n",
      "access : result : 3\n",
      "slicing : result : (3, 4)\n",
      "slicing with steps : result : (1, 3, 5)\n",
      "length : result : 5\n",
      "min : result : 1\n",
      "max : result : 5\n",
      "index : result : 1\n",
      "count : result : 1\n"
     ]
    }
   ],
   "source": [
    "data1 = (1, 2, 3, 4, 5)\n",
    "data2 = (6, 7, 8, 9, 10)\n",
    "\n",
    "print(\"data1 : \" + str(data1))\n",
    "\n",
    "# in operation\n",
    "result = 6 in data1\n",
    "print(\"in : result : \" + str(result))\n",
    "\n",
    "# not in operation\n",
    "result = 6 not in data1\n",
    "print(\"not in : result : \" + str(result))\n",
    "\n",
    "# concatenation operation\n",
    "result = data1 + data2\n",
    "print(\"concatenation : result : \" + str(result))\n",
    "\n",
    "# n times operation, here n = 3\n",
    "result = data1 * 3\n",
    "print(\"n times : result : \" + str(result))\n",
    "\n",
    "# access an element\n",
    "result = data1\n",
    "print(\"access : result : \" + str(result[2]))\n",
    "\n",
    "# slicing\n",
    "result = data1[2:4]\n",
    "print(\"slicing : result : \" + str(result))\n",
    "\n",
    "# slicing with n-steps, here n = 2\n",
    "result = data1[0:5:2]\n",
    "print(\"slicing with steps : result : \" + str(result))\n",
    "\n",
    "# length\n",
    "result = data1\n",
    "print(\"length : result : \" + str(len(result)))\n",
    "\n",
    "# min\n",
    "print(\"min : result : \" + str(min(result)))\n",
    "\n",
    "# max\n",
    "print(\"max : result : \" + str(max(result)))\n",
    "\n",
    "# index\n",
    "print(\"index : result : \" + str(result.index(2)))\n",
    "\n",
    "# count\n",
    "print(\"count : result : \" + str(result.count(2)))\n",
    "\n",
    "# append - uncomment below will gives error since we cannot append in tuple since it is read-only\n",
    "#result.append(6)\n",
    "#print(\"append : result : \" + str(result))\n"
   ]
  },
  {
   "cell_type": "markdown",
   "metadata": {},
   "source": [
    "<a id = \"h4.5\"> </a>\n",
    "## 4.5 Dictionary\n"
   ]
  },
  {
   "cell_type": "code",
   "execution_count": 48,
   "metadata": {},
   "outputs": [
    {
     "name": "stdout",
     "output_type": "stream",
     "text": [
      "Tuple : {}\n",
      "List : {'k1': 1, 'k2': 2, 'k3': 3}\n",
      "List : {'k1': 1, 'k2': 'hello', 'k3': 3}\n"
     ]
    }
   ],
   "source": [
    "# empty dictionary\n",
    "my_dict = dict()\n",
    "print(\"Dictionary : \" + str(my_dict))\n",
    "\n",
    "# dictionary of integers\n",
    "my_dict = {\"k1\" : 1, \"k2\" : 2, \"k3\" : 3}\n",
    "print(\"Dictionary : \" + str(my_dict))\n",
    "\n",
    "# dictionary with mixed datatypes\n",
    "my_dict = {\"k1\" : 1, \"k2\" : \"hello\", \"k3\" : 3}\n",
    "print(\"Dictionary : \" + str(my_dict))"
   ]
  },
  {
   "cell_type": "code",
   "execution_count": 64,
   "metadata": {},
   "outputs": [
    {
     "name": "stdout",
     "output_type": "stream",
     "text": [
      "data1 : {'k1': 1, 'k2': 2, 'k3': 3}\n",
      "in : result : False\n",
      "not in : result : True\n",
      "access : result : 2\n",
      "length : result : 3\n",
      "min : result : k1\n",
      "max : result : k3\n",
      "append : result : {'k1': 1, 'k2': 2, 'k3': 3, 'k7': 7}\n",
      "copy : result : {'k1': 1, 'k2': 2, 'k3': 3, 'k7': 7}\n",
      "clear : result : {}\n",
      "pop : result : {'k1': 1, 'k3': 3, 'k7': 7}\n"
     ]
    }
   ],
   "source": [
    "data1 =  {\"k1\" : 1, \"k2\" : 2, \"k3\" : 3}\n",
    "data2 =  {\"k4\" : 4, \"k5\" : 5, \"k6\" : 6}\n",
    "\n",
    "print(\"data1 : \" + str(data1))\n",
    "\n",
    "# in operation\n",
    "result = 6 in data1\n",
    "print(\"in : result : \" + str(result))\n",
    "\n",
    "# not in operation\n",
    "result = 6 not in data1\n",
    "print(\"not in : result : \" + str(result))\n",
    "\n",
    "# access an element\n",
    "result = data1\n",
    "print(\"access : result : \" + str(result[\"k2\"]))\n",
    "\n",
    "# length\n",
    "result = data1\n",
    "print(\"length : result : \" + str(len(result)))\n",
    "\n",
    "# min\n",
    "print(\"min : result : \" + str(min(result)))\n",
    "\n",
    "# max\n",
    "print(\"max : result : \" + str(max(result)))\n",
    "\n",
    "# assignment\n",
    "result[\"k7\"] = 7\n",
    "print(\"append : result : \" + str(result))\n",
    "\n",
    "# copy\n",
    "result = data1.copy()\n",
    "print(\"copy : result : \" + str(result))\n",
    "\n",
    "# clear\n",
    "result.clear()\n",
    "print(\"clear : result : \" + str(result))\n",
    "\n",
    "# pop\n",
    "result = data1.copy()\n",
    "result.pop(\"k2\")\n",
    "print(\"pop : result : \" + str(result))"
   ]
  },
  {
   "cell_type": "markdown",
   "metadata": {},
   "source": [
    "<a id = \"h4.6\"> </a>\n",
    "## 4.6 Set\n"
   ]
  },
  {
   "cell_type": "code",
   "execution_count": 66,
   "metadata": {},
   "outputs": [
    {
     "name": "stdout",
     "output_type": "stream",
     "text": [
      "Tuple : set()\n",
      "Tuple : {1, 2, 3}\n",
      "Tuple : {'Hello', 1, 3.4}\n"
     ]
    }
   ],
   "source": [
    "# empty set\n",
    "my_set = set()\n",
    "print(\"Tuple : \" + str(my_set))\n",
    "\n",
    "# tuple of integers\n",
    "my_set = {1, 2, 3}\n",
    "print(\"Tuple : \" + str(my_set))\n",
    "\n",
    "# tuple with mixed datatypes\n",
    "my_set = {1, \"Hello\", 3.4}\n",
    "print(\"Tuple : \" + str(my_set))"
   ]
  },
  {
   "cell_type": "markdown",
   "metadata": {},
   "source": [
    "## Important Operations"
   ]
  },
  {
   "cell_type": "code",
   "execution_count": 77,
   "metadata": {},
   "outputs": [
    {
     "name": "stdout",
     "output_type": "stream",
     "text": [
      "data1 : {1, 2, 3, 4, 5}\n",
      "in : result : False\n",
      "not in : result : True\n",
      "length : result : 5\n",
      "min : result : 1\n",
      "max : result : 5\n",
      "copy : result : {1, 2, 3, 4, 5}\n",
      "clear : result : set()\n",
      "pop : result : {2, 3, 4, 5}\n",
      "remove : result : {2, 4, 5}\n"
     ]
    }
   ],
   "source": [
    "data1 = {1, 2, 3, 4, 5}\n",
    "data2 = {6, 7, 8, 9, 10}\n",
    "\n",
    "print(\"data1 : \" + str(data1))\n",
    "\n",
    "# in operation\n",
    "result = 6 in data1\n",
    "print(\"in : result : \" + str(result))\n",
    "\n",
    "# not in operation\n",
    "result = 6 not in data1\n",
    "print(\"not in : result : \" + str(result))\n",
    "\n",
    "# length\n",
    "result = data1\n",
    "print(\"length : result : \" + str(len(result)))\n",
    "\n",
    "# min\n",
    "print(\"min : result : \" + str(min(result)))\n",
    "\n",
    "# max\n",
    "print(\"max : result : \" + str(max(result)))\n",
    "\n",
    "# copy\n",
    "result = data1.copy()\n",
    "print(\"copy : result : \" + str(result))\n",
    "\n",
    "# clear\n",
    "result.clear()\n",
    "print(\"clear : result : \" + str(result))\n",
    "\n",
    "# pop\n",
    "result = data1.copy()\n",
    "result.pop()\n",
    "print(\"pop : result : \" + str(result))\n",
    "\n",
    "# remove\n",
    "result.remove(3)\n",
    "print(\"remove : result : \" + str(result))"
   ]
  },
  {
   "cell_type": "markdown",
   "metadata": {},
   "source": [
    "## Other Core Types\n"
   ]
  },
  {
   "cell_type": "markdown",
   "metadata": {},
   "source": [
    "- Type Objects\n",
    "- Null Object\n",
    "- NotImplemented Object\n",
    "- Boolean Values"
   ]
  },
  {
   "cell_type": "markdown",
   "metadata": {},
   "source": [
    "## Conversion between data types"
   ]
  },
  {
   "cell_type": "code",
   "execution_count": 88,
   "metadata": {},
   "outputs": [
    {
     "name": "stdout",
     "output_type": "stream",
     "text": [
      "two integer : result : <class 'int'>\n",
      "int and float : result : <class 'float'>\n",
      "int and float  and complex : result : <class 'complex'>\n",
      "1. type : <class 'list'>\n",
      "{1, 2, 3, 4, 5}\n",
      "2. type : <class 'tuple'>\n",
      "(1, 2, 3, 4, 5)\n",
      "3. type : <class 'set'>\n",
      "{1, 2, 3, 4, 5}\n",
      "4. type : <class 'frozenset'>\n",
      "frozenset({1, 2, 3, 4, 5})\n",
      "5. type : <class 'str'>\n",
      "[1, 2, 3, 4, 5]\n"
     ]
    }
   ],
   "source": [
    "# integer value\n",
    "result = 10 + 20\n",
    "print(\"two integer : result : \" + str(type(result)))\n",
    "\n",
    "# converted to float if single value is float\n",
    "result = 10 + 20.0\n",
    "print(\"int and float : result : \" + str(type(result)))\n",
    "\n",
    "# converted to float if single value is float\n",
    "result = 10 + 20.0 + 5j\n",
    "print(\"int and float  and complex : result : \" + str(type(result)))\n",
    "\n",
    "data = [1, 2, 3, 4, 5]\n",
    "print(\"1. type : \" + str(type(data)) )\n",
    "print(my_data)\n",
    "\n",
    "my_data = tuple(data.copy())\n",
    "print(\"2. type : \" + str(type(my_data)) )\n",
    "print(my_data)\n",
    "\n",
    "my_data = set(data.copy())\n",
    "print(\"3. type : \" + str(type(my_data)) )\n",
    "print(my_data)\n",
    "\n",
    "my_data = frozenset(data.copy())\n",
    "print(\"4. type : \" + str(type(my_data)) )\n",
    "print(my_data)\n",
    "\n",
    "my_data = str(data.copy())\n",
    "print(\"5. type : \" + str(type(my_data)) )\n",
    "print(my_data)"
   ]
  }
 ],
 "metadata": {
  "kernelspec": {
   "display_name": "Python 3",
   "language": "python",
   "name": "python3"
  },
  "language_info": {
   "codemirror_mode": {
    "name": "ipython",
    "version": 3
   },
   "file_extension": ".py",
   "mimetype": "text/x-python",
   "name": "python",
   "nbconvert_exporter": "python",
   "pygments_lexer": "ipython3",
   "version": "3.6.5"
  }
 },
 "nbformat": 4,
 "nbformat_minor": 2
}
