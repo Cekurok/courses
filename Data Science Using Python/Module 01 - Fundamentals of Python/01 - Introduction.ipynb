{
 "cells": [
  {
   "cell_type": "markdown",
   "metadata": {},
   "source": [
    "# Table of contents\n",
    "1. [Introduction](#h1) <br>\n",
    "1.1 [Why do we need Python?](#h1.1) <br>\n",
    "1.2 [Program structure](#h1.2)<br>\n",
    "2. [Execution steps](#head2) <br>\n",
    "2.1 [Interactive Shell](#head2.1) <br>\n",
    "2.2 [Executable or script files](#head2.2) <br>\n",
    "2.3 [User Interface or IDE](#head2.3) <br>\n",
    "3. [Memory management and Garbage collections](#h3)<br>\n",
    "3.1 [Object creation and deletion](#h3.1)<br>\n",
    "3.2 [The standard type hierarchy](#h3.2)<br>\n",
    "3.3 [Object properties](#h3.3)"
   ]
  },
  {
   "cell_type": "markdown",
   "metadata": {},
   "source": [
    "<a id = \"h1\"> </a>\n",
    "# 1. Introduction "
   ]
  },
  {
   "cell_type": "markdown",
   "metadata": {},
   "source": [
    "- Python is an interpreted high-level programming language for general-purpose programming.\n",
    "- Created by Guido van Rossum and first released in 1991.\n",
    "- Python interpreters are available for many operating systems.\n",
    "- Open source software.\n",
    "- Features :\n",
    "    - Python features a dynamic type system.\n",
    "    - Automatic memory management.\n",
    "    - Supports multiple programming paradigms (like OOP and procedural).\n",
    "    - Large and comprehensive standard library."
   ]
  },
  {
   "cell_type": "markdown",
   "metadata": {},
   "source": [
    "## Python Package Index"
   ]
  },
  {
   "cell_type": "markdown",
   "metadata": {},
   "source": [
    "Python Package Index (PyPI), the official repository for third-party Python software, contains over 1,30,000 packages with a wide range of functionality, including:\n",
    "\n",
    "- Graphical user interfaces\n",
    "- Web frameworks\n",
    "- Multimedia\n",
    "- Databases\n",
    "- Networking\n",
    "- Test frameworks\n",
    "- Automation\n",
    "- Web scraping\n",
    "- Documentation\n",
    "- System administration\n",
    "- Scientific computing\n",
    "- Text processing\n",
    "- Image processing"
   ]
  },
  {
   "cell_type": "markdown",
   "metadata": {},
   "source": [
    "<a id = \"h1.1\"> </a>\n",
    "## 1.1 Why do we need Python?"
   ]
  },
  {
   "cell_type": "markdown",
   "metadata": {},
   "source": [
    "- Easy to learn\n",
    "- Easy to read\n",
    "- Easy to maintain\n",
    "- A broad standard library\n",
    "- Interactive Mode\n",
    "- Portable \n",
    "- Extendable\n",
    "- Scalable"
   ]
  },
  {
   "cell_type": "markdown",
   "metadata": {},
   "source": [
    "<a id = \"h1.2\"> </a>\n",
    "## 1.2 Program structure"
   ]
  },
  {
   "cell_type": "markdown",
   "metadata": {},
   "source": [
    "- A Python program is constructed from code **blocks**.\n",
    "- A **block** is a piece of Python program text that is executed as a **unit**.\n",
    "- Following are blocks:\n",
    "    1. Module\n",
    "    1. Function body\n",
    "    1. Class definition\n",
    "    1. Each command typed interactively\n",
    "    1. Script file\n",
    "    1. Script command\n",
    "    1. String arguments passed to the built-in functions\n",
    "- A code block is executed in an **execution frame**.\n",
    "- A frame contains some administrative information (used for debugging) and determines where and how execution continues after the code block’s execution has completed."
   ]
  },
  {
   "cell_type": "markdown",
   "metadata": {},
   "source": [
    "<a id =\"head2\"></a> \n",
    "# 2. Execution steps"
   ]
  },
  {
   "cell_type": "markdown",
   "metadata": {},
   "source": [
    "<a id =\"head2.1\"></a> \n",
    "## 2.1 Interactive Shell"
   ]
  },
  {
   "cell_type": "markdown",
   "metadata": {},
   "source": [
    "### Advantages:\n",
    "- If you want to know how something works, you can just try it.\n",
    "- You can use it as a calculator.\n",
    "- If you want to know anything about an object, you can just do dir(object).\n",
    "- Help(anything) for documentation.\n",
    "- You can time stuff using %timeit.\n",
    "- Debugging. You don't need to put selective print statements in code to see what variables are when you write it in the interpreter. "
   ]
  },
  {
   "cell_type": "markdown",
   "metadata": {},
   "source": [
    "<a id =\"head2.2\"></a> \n",
    "## 2.2 Executable or script files"
   ]
  },
  {
   "cell_type": "markdown",
   "metadata": {},
   "source": [
    "### Create scripts \n",
    "- Open an editor or ide for python and save as .py extension\n",
    "\n",
    "### Create executable from scripts\n",
    "- Install the pyinstaller using pip <br>\n",
    " ```$ conda install -c conda-forge pyinstaller```\n",
    "\n",
    "- pyinstaller --onefile <python-file-name> <br>\n",
    "```$ pyinstaller --onefile test.py```"
   ]
  },
  {
   "cell_type": "markdown",
   "metadata": {},
   "source": [
    "<a id =\"head2.3\"></a>\n",
    "## 2.3 User Interface or IDE"
   ]
  },
  {
   "cell_type": "markdown",
   "metadata": {},
   "source": [
    "- User level install of the version of python you want\n",
    "- Able to install/update packages completely independent of system libraries or admin privileges\n",
    "- Edit, compile and debug in one place."
   ]
  },
  {
   "cell_type": "markdown",
   "metadata": {},
   "source": [
    "<a id = \"h3.1\"> </a>\n",
    "## 3.1 Object creation and deletion"
   ]
  },
  {
   "cell_type": "markdown",
   "metadata": {},
   "source": [
    "- Object can be deleted by using the del operator"
   ]
  },
  {
   "cell_type": "markdown",
   "metadata": {},
   "source": [
    "<a id = \"h3.2\"> </a>\n",
    "## 3.2 The standard type hierarchy"
   ]
  },
  {
   "cell_type": "markdown",
   "metadata": {},
   "source": [
    "1. None\n",
    "1. NotImplemented\n",
    "1. Ellipsis\n",
    "1. numbers.Number\n",
    "    1. numbers.Integral\n",
    "        1. Integers (int)\n",
    "        1. Booleans (bool)\n",
    "    1. numbers.Real (float)\n",
    "    1. numbers.Complex (complex)\n",
    "1. Sequences\n",
    "    1. Immutable sequences\n",
    "        1. Strings\n",
    "        1. Tuples\n",
    "        1. Bytes\n",
    "    1. Mutable sequences\n",
    "        1. Lists\n",
    "        1. Byte Arrays\n",
    "1. Set types\n",
    "    1. Sets\n",
    "    1. Frozen sets\n",
    "1. Mappings\n",
    "    1. Dictionaries\n",
    "1. Callable types\n",
    "    1. User-defined functions\n",
    "    1. Instance methods\n",
    "    1. Generator functions\n",
    "    1. Coroutine functions\n",
    "    1. Asynchronous generator functions\n",
    "    1. Built-in functions\n",
    "    1. Built-in methods\n",
    "    1. Classes\n",
    "    1. Class Instances\n",
    "1. Modules\n",
    "1. Custom classes\n",
    "1. Class instances\n",
    "1. I/O objects (also known as file objects)\n",
    "1. Internal types\n",
    "    1. Code objects\n",
    "    1. Frame objects\n",
    "    1. Traceback objects\n",
    "    1. Slice objects\n",
    "    1. Static method objects\n",
    "    1. Class method objects\n"
   ]
  },
  {
   "cell_type": "markdown",
   "metadata": {},
   "source": [
    "<a id = \"h3.3\"> </a>\n",
    "## 3.3 Object properties"
   ]
  },
  {
   "cell_type": "markdown",
   "metadata": {},
   "source": [
    "1. Objects are Python’s abstraction for data.\n",
    "1. All data in a Python program is represented by objects or by relations between objects.\n",
    "1. Every object has an identity, a type and a value."
   ]
  }
 ],
 "metadata": {
  "kernelspec": {
   "display_name": "Python 3",
   "language": "python",
   "name": "python3"
  },
  "language_info": {
   "codemirror_mode": {
    "name": "ipython",
    "version": 3
   },
   "file_extension": ".py",
   "mimetype": "text/x-python",
   "name": "python",
   "nbconvert_exporter": "python",
   "pygments_lexer": "ipython3",
   "version": "3.6.5"
  }
 },
 "nbformat": 4,
 "nbformat_minor": 2
}
