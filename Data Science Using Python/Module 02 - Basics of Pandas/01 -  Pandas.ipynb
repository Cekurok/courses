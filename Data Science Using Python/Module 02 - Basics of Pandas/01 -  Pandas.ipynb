{
 "cells": [
  {
   "cell_type": "markdown",
   "metadata": {},
   "source": [
    "# Table of Contents\n",
    "A. [Pandas Section](#ha)\n",
    "1. [Python Pandas – Introduction](#ha.1)\n",
    "1. [Introduction to Data Structures](#ha.2)\n",
    "1. [Python Pandas – Series](#ha.3)\n",
    "1. [Python Pandas – DataFrame](#ha.4)\n",
    "1. [Python Pandas – Basic Functionality](#ha.5)\n",
    "1. [Python Pandas – Descriptive Statistics](#ha.6)\n",
    "1. [Python Pandas – Indexing and Selecting Data](#ha.7)\n",
    "1. [Python Pandas – Function Application](#ha.8)\n",
    "1. [Python Pandas – Reindexing](#ha.9)\n",
    "1. [Python Pandas – Iteration](#ha.10)\n",
    "1. [Python Pandas – Sorting](#ha.11)\n",
    "1. [Python Pandas – Working with Text Data](#ha.12)\n",
    "1. [Python Pandas – Options and Customization](#ha.13)\n",
    "1. [Python Pandas – Missing Data](#ha.14)\n",
    "1. [Python Pandas – GroupBy](#ha.15)\n",
    "1. [Python Pandas – Merging/Joining](#ha.16)\n",
    "1. [Python Pandas – Concatenation](#ha.17)\n",
    "1. [Python Pandas – IO Tools](#ha.18)\n",
    "1. [Python Pandas – Comparison with SQL](#ha.19)\n",
    "1. [Python Pandas – Dates Conversion](#ha.20)\n",
    "1. [Plotting Data](#ha.21)"
   ]
  },
  {
   "cell_type": "markdown",
   "metadata": {},
   "source": [
    "<a id = \"ha\"> </a>\n",
    "# Pandas Section"
   ]
  },
  {
   "cell_type": "code",
   "execution_count": null,
   "metadata": {},
   "outputs": [],
   "source": []
  },
  {
   "cell_type": "markdown",
   "metadata": {},
   "source": [
    "<a id = \"ha.1\"> </a>\n",
    "## Python Pandas – Introduction"
   ]
  },
  {
   "cell_type": "code",
   "execution_count": null,
   "metadata": {},
   "outputs": [],
   "source": []
  },
  {
   "cell_type": "markdown",
   "metadata": {},
   "source": [
    "<a id = \"ha.2\"> </a>\n",
    "## Introduction to Data Structures"
   ]
  },
  {
   "cell_type": "code",
   "execution_count": null,
   "metadata": {},
   "outputs": [],
   "source": []
  },
  {
   "cell_type": "markdown",
   "metadata": {},
   "source": [
    "<a id = \"ha.3\"> </a>\n",
    "## Python Pandas – Series\n"
   ]
  },
  {
   "cell_type": "code",
   "execution_count": null,
   "metadata": {},
   "outputs": [],
   "source": []
  },
  {
   "cell_type": "markdown",
   "metadata": {},
   "source": [
    "<a id = \"ha.4\"> </a>\n",
    "## Python Pandas – DataFrame\n"
   ]
  },
  {
   "cell_type": "code",
   "execution_count": null,
   "metadata": {},
   "outputs": [],
   "source": []
  },
  {
   "cell_type": "markdown",
   "metadata": {},
   "source": [
    "<a id = \"ha.5\"> </a>\n",
    "## Python Pandas – Basic Functionality\n"
   ]
  },
  {
   "cell_type": "code",
   "execution_count": null,
   "metadata": {},
   "outputs": [],
   "source": []
  },
  {
   "cell_type": "markdown",
   "metadata": {},
   "source": [
    "<a id = \"ha.6\"> </a>\n",
    "## Python Pandas – Descriptive Statistics\n"
   ]
  },
  {
   "cell_type": "code",
   "execution_count": null,
   "metadata": {},
   "outputs": [],
   "source": []
  },
  {
   "cell_type": "markdown",
   "metadata": {},
   "source": [
    "<a id = \"ha.7\"> </a>\n",
    "## Python Pandas – Indexing and Selecting Data\n"
   ]
  },
  {
   "cell_type": "code",
   "execution_count": null,
   "metadata": {},
   "outputs": [],
   "source": []
  },
  {
   "cell_type": "markdown",
   "metadata": {},
   "source": [
    "<a id = \"ha.8\"> </a>\n",
    "## Python Pandas – Function Application\n"
   ]
  },
  {
   "cell_type": "code",
   "execution_count": null,
   "metadata": {},
   "outputs": [],
   "source": []
  },
  {
   "cell_type": "markdown",
   "metadata": {},
   "source": [
    "<a id = \"ha.9\"> </a>\n",
    "## Python Pandas – Reindexing\n"
   ]
  },
  {
   "cell_type": "code",
   "execution_count": null,
   "metadata": {},
   "outputs": [],
   "source": []
  },
  {
   "cell_type": "markdown",
   "metadata": {},
   "source": [
    "<a id = \"ha.10\"> </a>\n",
    "## Python Pandas – Iteration\n"
   ]
  },
  {
   "cell_type": "code",
   "execution_count": null,
   "metadata": {},
   "outputs": [],
   "source": []
  },
  {
   "cell_type": "markdown",
   "metadata": {},
   "source": [
    "<a id = \"ha.11\"> </a>\n",
    "## Python Pandas – Sorting\n"
   ]
  },
  {
   "cell_type": "code",
   "execution_count": null,
   "metadata": {},
   "outputs": [],
   "source": []
  },
  {
   "cell_type": "markdown",
   "metadata": {},
   "source": [
    "<a id = \"ha.12\"> </a>\n",
    "## Python Pandas – Working with Text Data\n"
   ]
  },
  {
   "cell_type": "code",
   "execution_count": null,
   "metadata": {},
   "outputs": [],
   "source": []
  },
  {
   "cell_type": "markdown",
   "metadata": {},
   "source": [
    "<a id = \"ha.13\"> </a>\n",
    "## Python Pandas – Options and Customization\n"
   ]
  },
  {
   "cell_type": "code",
   "execution_count": null,
   "metadata": {},
   "outputs": [],
   "source": []
  },
  {
   "cell_type": "markdown",
   "metadata": {},
   "source": [
    "<a id = \"ha.14\"> </a>\n",
    "## Python Pandas – Missing Data\n"
   ]
  },
  {
   "cell_type": "code",
   "execution_count": null,
   "metadata": {},
   "outputs": [],
   "source": []
  },
  {
   "cell_type": "markdown",
   "metadata": {},
   "source": [
    "<a id = \"ha.15\"> </a>\n",
    "## Python Pandas – GroupBy\n"
   ]
  },
  {
   "cell_type": "code",
   "execution_count": null,
   "metadata": {},
   "outputs": [],
   "source": []
  },
  {
   "cell_type": "markdown",
   "metadata": {},
   "source": [
    "<a id = \"ha.16\"> </a>\n",
    "## Python Pandas – Merging/Joining\n"
   ]
  },
  {
   "cell_type": "code",
   "execution_count": null,
   "metadata": {},
   "outputs": [],
   "source": []
  },
  {
   "cell_type": "markdown",
   "metadata": {},
   "source": [
    "<a id = \"ha.17\"> </a>\n",
    "## Python Pandas – Concatenation\n"
   ]
  },
  {
   "cell_type": "code",
   "execution_count": null,
   "metadata": {},
   "outputs": [],
   "source": []
  },
  {
   "cell_type": "markdown",
   "metadata": {},
   "source": [
    "<a id = \"ha.18\"> </a>\n",
    "## Python Pandas – IO Tools\n"
   ]
  },
  {
   "cell_type": "code",
   "execution_count": null,
   "metadata": {},
   "outputs": [],
   "source": []
  },
  {
   "cell_type": "markdown",
   "metadata": {},
   "source": [
    "<a id = \"ha.19\"> </a>\n",
    "## Python Pandas – Comparison with SQL\n"
   ]
  },
  {
   "cell_type": "code",
   "execution_count": null,
   "metadata": {},
   "outputs": [],
   "source": []
  },
  {
   "cell_type": "markdown",
   "metadata": {},
   "source": [
    "<a id = \"ha.20\"> </a>\n",
    "## Python Pandas – Dates Conversion\n"
   ]
  },
  {
   "cell_type": "code",
   "execution_count": null,
   "metadata": {},
   "outputs": [],
   "source": []
  },
  {
   "cell_type": "markdown",
   "metadata": {},
   "source": [
    "<a id = \"ha.21\"> </a>\n",
    "## Plotting Data"
   ]
  },
  {
   "cell_type": "code",
   "execution_count": null,
   "metadata": {},
   "outputs": [],
   "source": []
  }
 ],
 "metadata": {
  "kernelspec": {
   "display_name": "Python 3",
   "language": "python",
   "name": "python3"
  },
  "language_info": {
   "codemirror_mode": {
    "name": "ipython",
    "version": 3
   },
   "file_extension": ".py",
   "mimetype": "text/x-python",
   "name": "python",
   "nbconvert_exporter": "python",
   "pygments_lexer": "ipython3",
   "version": "3.6.5"
  }
 },
 "nbformat": 4,
 "nbformat_minor": 2
}
