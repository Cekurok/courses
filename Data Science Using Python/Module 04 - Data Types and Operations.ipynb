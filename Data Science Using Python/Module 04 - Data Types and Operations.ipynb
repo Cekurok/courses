{
 "cells": [
  {
   "cell_type": "markdown",
   "metadata": {},
   "source": [
    "# 4. Data Types and Operations\n",
    "4.1 [Numbers](#h4.1)<br>\n",
    "4.2 [Strings](#h4.2)<br>\n",
    "4.3 [List](#h4.3)<br>\n",
    "4.4 [Tuple](#h4.4)<br>\n",
    "4.5 [Dictionary](#h4.5)<br>\n",
    "4.6 [Set](#h4.6)<br>\n",
    "4.7 [Other Core Types](#h4.8)<br>\n",
    "4.8 [Conversion between data types](#h4.8)<br>\n"
   ]
  },
  {
   "cell_type": "markdown",
   "metadata": {},
   "source": [
    "<a id = \"h4.1\"> </a>\n",
    "## Numbers"
   ]
  },
  {
   "cell_type": "markdown",
   "metadata": {},
   "source": [
    "1. numbers.Number\n",
    "    1. numbers.Integral\n",
    "        1. Integers (int)\n",
    "        1. Booleans (bool)\n",
    "    1. numbers.Real (float)\n",
    "    1. numbers.Complex (complex)"
   ]
  },
  {
   "cell_type": "markdown",
   "metadata": {},
   "source": [
    "## Strings"
   ]
  },
  {
   "cell_type": "markdown",
   "metadata": {},
   "source": [
    "### Create String\n"
   ]
  },
  {
   "cell_type": "code",
   "execution_count": 10,
   "metadata": {},
   "outputs": [
    {
     "name": "stdout",
     "output_type": "stream",
     "text": [
      "this is single quote string\n",
      "this is a sample string\n",
      "\n",
      "       this \n",
      "       is \n",
      "       multi line\n",
      "       string \n"
     ]
    }
   ],
   "source": [
    "# single quote\n",
    "st1 = 'this is single quote string'\n",
    "print(st1)\n",
    "\n",
    "# double quote \n",
    "st2 = \"this is a double quote string\"\n",
    "print(st2)\n",
    "\n",
    "# triple quote multi-line string\n",
    "st3 = '''\n",
    "       this \n",
    "       is \n",
    "       multi line\n",
    "       string '''\n",
    "print(st3)"
   ]
  },
  {
   "cell_type": "markdown",
   "metadata": {},
   "source": [
    "### Important Methods"
   ]
  },
  {
   "cell_type": "code",
   "execution_count": 23,
   "metadata": {},
   "outputs": [
    {
     "name": "stdout",
     "output_type": "stream",
     "text": [
      "initial string : this is sample string\n",
      "capitilize method : This is sample string\n",
      "count method : 2\n",
      "endswith method : True\n",
      "find method : 2\n",
      "format method : first second\n"
     ]
    }
   ],
   "source": [
    "st = \"this is sample string\"\n",
    "print(\"initial string : \" + st)\n",
    "\n",
    "# capitilize method\n",
    "print(\"capitilize method : \" + st.capitalize())\n",
    "\n",
    "# count method\n",
    "print(\"count method : \" + str(st.count(\"is\")))\n",
    "\n",
    "# endswith method\n",
    "print(\"endswith method : \" + str(st.endswith(\"string\")))\n",
    "\n",
    "# find method\n",
    "print(\"find method : \" + str(st.find(\"is\")))\n",
    "\n",
    "# format method\n",
    "print(\"format method : {0} {1}\".format(\"first\", \"second\"))\n",
    "\n",
    "# index method\n",
    "\n",
    "# join method\n",
    "\n",
    "# partition method\n",
    "\n",
    "# replace method\n",
    "\n",
    "# split method \n",
    "\n",
    "# strip method\n",
    "\n",
    "# zfill method"
   ]
  },
  {
   "cell_type": "markdown",
   "metadata": {},
   "source": [
    "## List\n"
   ]
  },
  {
   "cell_type": "markdown",
   "metadata": {},
   "source": [
    "### Important Methods"
   ]
  },
  {
   "cell_type": "code",
   "execution_count": null,
   "metadata": {},
   "outputs": [],
   "source": [
    "# append method\n",
    "\n",
    "# clear method\n",
    "\n",
    "# copy method\n",
    "\n",
    "# extend method\n",
    "\n",
    "# insert method\n",
    "\n",
    "# pop method\n",
    "\n",
    "# remove method\n",
    "\n",
    "# reverse method"
   ]
  },
  {
   "cell_type": "markdown",
   "metadata": {},
   "source": [
    "## Tuple\n"
   ]
  },
  {
   "cell_type": "code",
   "execution_count": null,
   "metadata": {},
   "outputs": [],
   "source": [
    "# append method\n",
    "\n",
    "# clear method\n",
    "\n",
    "# copy method\n",
    "\n",
    "# extend method\n",
    "\n",
    "# insert method\n",
    "\n",
    "# pop method\n",
    "\n",
    "# remove method\n",
    "\n",
    "# reverse method"
   ]
  },
  {
   "cell_type": "markdown",
   "metadata": {},
   "source": [
    "## Dictionary\n"
   ]
  },
  {
   "cell_type": "code",
   "execution_count": null,
   "metadata": {},
   "outputs": [],
   "source": [
    "# append method\n",
    "\n",
    "# clear method\n",
    "\n",
    "# copy method\n",
    "\n",
    "# extend method\n",
    "\n",
    "# insert method\n",
    "\n",
    "# pop method\n",
    "\n",
    "# remove method\n",
    "\n",
    "# reverse method"
   ]
  },
  {
   "cell_type": "markdown",
   "metadata": {},
   "source": [
    "## Set\n"
   ]
  },
  {
   "cell_type": "code",
   "execution_count": null,
   "metadata": {},
   "outputs": [],
   "source": [
    "# append method\n",
    "\n",
    "# clear method\n",
    "\n",
    "# copy method\n",
    "\n",
    "# extend method\n",
    "\n",
    "# insert method\n",
    "\n",
    "# pop method\n",
    "\n",
    "# remove method\n",
    "\n",
    "# reverse method"
   ]
  },
  {
   "cell_type": "markdown",
   "metadata": {},
   "source": [
    "## Other Core Types\n"
   ]
  },
  {
   "cell_type": "code",
   "execution_count": null,
   "metadata": {},
   "outputs": [],
   "source": []
  },
  {
   "cell_type": "markdown",
   "metadata": {},
   "source": [
    "## Conversion between data types"
   ]
  },
  {
   "cell_type": "code",
   "execution_count": null,
   "metadata": {},
   "outputs": [],
   "source": []
  }
 ],
 "metadata": {
  "kernelspec": {
   "display_name": "Python 3",
   "language": "python",
   "name": "python3"
  },
  "language_info": {
   "codemirror_mode": {
    "name": "ipython",
    "version": 3
   },
   "file_extension": ".py",
   "mimetype": "text/x-python",
   "name": "python",
   "nbconvert_exporter": "python",
   "pygments_lexer": "ipython3",
   "version": "3.6.5"
  }
 },
 "nbformat": 4,
 "nbformat_minor": 2
}
