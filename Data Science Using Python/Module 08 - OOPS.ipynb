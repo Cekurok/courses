{
 "cells": [
  {
   "cell_type": "markdown",
   "metadata": {},
   "source": [
    "\n",
    "## 8. OOPS\n",
    "## Classes and Objects\n",
    "## Creating object\n",
    "## Working with Class and Instance Variables Together\n",
    "## Accessing Object Variables\n",
    "## Accessing Object Functions\n",
    "## Inheritance\n",
    "## Multiple Inheritance\n",
    "## Constructor\n",
    "## Operator Overloading\n",
    "## Polymorphism\n",
    "## Encapsulation\n",
    "## Abstract class and methods"
   ]
  },
  {
   "cell_type": "code",
   "execution_count": null,
   "metadata": {},
   "outputs": [],
   "source": []
  }
 ],
 "metadata": {
  "kernelspec": {
   "display_name": "Python 3",
   "language": "python",
   "name": "python3"
  },
  "language_info": {
   "codemirror_mode": {
    "name": "ipython",
    "version": 3
   },
   "file_extension": ".py",
   "mimetype": "text/x-python",
   "name": "python",
   "nbconvert_exporter": "python",
   "pygments_lexer": "ipython3",
   "version": "3.6.5"
  }
 },
 "nbformat": 4,
 "nbformat_minor": 2
}
