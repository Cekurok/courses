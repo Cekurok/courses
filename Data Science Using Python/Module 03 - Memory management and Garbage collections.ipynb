{
 "cells": [
  {
   "cell_type": "markdown",
   "metadata": {},
   "source": [
    "# 3. Memory management and Garbage collections\n",
    "\n"
   ]
  },
  {
   "cell_type": "markdown",
   "metadata": {},
   "source": [
    "## Object creation and deletion"
   ]
  },
  {
   "cell_type": "markdown",
   "metadata": {},
   "source": [
    "1. Objects are Python’s abstraction for data.\n",
    "1. All data in a Python program is represented by objects or by relations between objects.\n",
    "1. Every object has an identity, a type and a value."
   ]
  },
  {
   "cell_type": "markdown",
   "metadata": {},
   "source": [
    "## The standard type hierarchy"
   ]
  },
  {
   "cell_type": "markdown",
   "metadata": {},
   "source": [
    "1. None\n",
    "1. NotImplemented\n",
    "1. Ellipsis\n",
    "1. numbers.Number\n",
    "    1. numbers.Integral\n",
    "        1. Integers (int)\n",
    "        1. Booleans (bool)\n",
    "    1. numbers.Real (float)\n",
    "    1. numbers.Complex (complex)\n",
    "1. Sequences\n",
    "    1. Immutable sequences\n",
    "        1. Strings\n",
    "        1. Tuples\n",
    "        1. Bytes\n",
    "    1. Mutable sequences\n",
    "        1. Lists\n",
    "        1. Byte Arrays\n",
    "1. Set types\n",
    "    1. Sets\n",
    "    1. Frozen sets\n",
    "1. Mappings\n",
    "    1. Dictionaries\n",
    "1. Callable types\n",
    "    1. User-defined functions\n",
    "    1. Instance methods\n",
    "    1. Generator functions\n",
    "    1. Coroutine functions\n",
    "    1. Asynchronous generator functions\n",
    "    1. Built-in functions\n",
    "    1. Built-in methods\n",
    "    1. Classes\n",
    "    1. Class Instances\n",
    "1. Modules\n",
    "1. Custom classes\n",
    "1. Class instances\n",
    "1. I/O objects (also known as file objects)\n",
    "1. Internal types\n",
    "    1. Code objects\n",
    "    1. Frame objects\n",
    "    1. Traceback objects\n",
    "    1. Slice objects\n",
    "    1. Static method objects\n",
    "    1. Class method objects\n"
   ]
  },
  {
   "cell_type": "markdown",
   "metadata": {},
   "source": [
    "## Object properties"
   ]
  },
  {
   "cell_type": "code",
   "execution_count": null,
   "metadata": {},
   "outputs": [],
   "source": []
  }
 ],
 "metadata": {
  "kernelspec": {
   "display_name": "Python 3",
   "language": "python",
   "name": "python3"
  },
  "language_info": {
   "codemirror_mode": {
    "name": "ipython",
    "version": 3
   },
   "file_extension": ".py",
   "mimetype": "text/x-python",
   "name": "python",
   "nbconvert_exporter": "python",
   "pygments_lexer": "ipython3",
   "version": "3.6.5"
  }
 },
 "nbformat": 4,
 "nbformat_minor": 2
}
