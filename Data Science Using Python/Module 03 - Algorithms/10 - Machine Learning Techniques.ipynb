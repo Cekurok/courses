{
 "cells": [
  {
   "cell_type": "markdown",
   "metadata": {},
   "source": [
    "## 10. Machine Learning Techniques\n",
    "## All algorithm will be explain by\n",
    "## What is mathematics behind it\n",
    "## Which scenario want to use\n",
    "## How it is different from other algorithm\n",
    "## How to interpret with Python\n",
    "## What insights getting out from result\n",
    "## Hypothesis Testing\n",
    "## Correlation\n",
    "## Outlier Detection\n",
    "## T-test\n",
    "## Anova\n",
    "## Chi-square\n",
    "## Linear regression\n",
    "## Multiple regression\n",
    "## Logistics Regression\n",
    "## Naïve Bayes classifier\n",
    "## K means clustering\n",
    "## Decision tree\n",
    "## SVM\n",
    "## Time series forecasting Overview"
   ]
  },
  {
   "cell_type": "code",
   "execution_count": null,
   "metadata": {},
   "outputs": [],
   "source": []
  }
 ],
 "metadata": {
  "kernelspec": {
   "display_name": "Python 3",
   "language": "python",
   "name": "python3"
  },
  "language_info": {
   "codemirror_mode": {
    "name": "ipython",
    "version": 3
   },
   "file_extension": ".py",
   "mimetype": "text/x-python",
   "name": "python",
   "nbconvert_exporter": "python",
   "pygments_lexer": "ipython3",
   "version": "3.6.5"
  }
 },
 "nbformat": 4,
 "nbformat_minor": 2
}
