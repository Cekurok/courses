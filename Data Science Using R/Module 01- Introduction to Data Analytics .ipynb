{
 "cells": [
  {
   "cell_type": "markdown",
   "metadata": {},
   "source": [
    "# Module 1- Introduction to Data Analytic\n",
    "1.1 [Business Analytics, Data, Information](#h1.1)<br>\n",
    "1.2 [Understanding Business Analytics and R](#h1.2) <br>\n",
    "1.3 [Compare R with other software in analytics](#h1.3) <br>\n",
    "1.4 [Install R](#h1.4) <br>\n",
    "1.5 [Perform basic operations in R using command line](#h1.5) <br>\n",
    "1.6 [Learn the use of IDE R Studio](#h1.6) <br>\n",
    "1.7 [Use the ‘R help’ feature in R](#h.17)"
   ]
  },
  {
   "cell_type": "code",
   "execution_count": null,
   "metadata": {},
   "outputs": [],
   "source": []
  },
  {
   "cell_type": "code",
   "execution_count": null,
   "metadata": {},
   "outputs": [],
   "source": [
    "Module 1- Introduction to Data Analytics   (4)\n",
    "Objectives\n",
    "\n",
    "This module introduces you to some of the important keywords in R like Business Intelligence, Business Analytics, Data and Information.\n",
    "You can also learn how R can play an important role in solving complex analytical problems.\n",
    "This module tells you what is R and how it is used by the giants like Google, Facebook, etc.\n",
    "Also, you will learn use of ‘R’ in the industry, this module also helps you compare R with other software in analytics, install R and its packages.\n",
    "Topics\n",
    "\n",
    "Business Analytics, Data, Information\n",
    "Understanding Business Analytics and R\n",
    "Compare R with other software in analytics\n",
    "Install R\n",
    "Perform basic operations in R using command line\n",
    "Learn the use of IDE R Studio\n",
    "Use the ‘R help’ feature in R"
   ]
  }
 ],
 "metadata": {
  "kernelspec": {
   "display_name": "R",
   "language": "R",
   "name": "ir"
  },
  "language_info": {
   "codemirror_mode": "r",
   "file_extension": ".r",
   "mimetype": "text/x-r-source",
   "name": "R",
   "pygments_lexer": "r",
   "version": "3.4.3"
  }
 },
 "nbformat": 4,
 "nbformat_minor": 2
}
