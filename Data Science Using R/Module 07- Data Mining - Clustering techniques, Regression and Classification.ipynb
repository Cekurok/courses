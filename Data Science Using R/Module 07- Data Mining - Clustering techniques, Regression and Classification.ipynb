{
 "cells": [
  {
   "cell_type": "code",
   "execution_count": null,
   "metadata": {},
   "outputs": [],
   "source": [
    "\n",
    "Module 7- Data Mining: Clustering techniques, Regression & Classification   (4)\n",
    "Objectives\n",
    "\n",
    "Linear and logistic regression is explained from the basics with the examples and it is implemented in R using two case studies dedicated to each type of Regression discussed.\n",
    "The two Machine Learning types are Supervised Learning and Unsupervised Learning and the difference between the two types.\n",
    "We will also discuss the process involved in ‘K-means Clustering’, the various statistical measures you need to know to implement it in this module.\n",
    "Topics\n",
    "\n",
    "Introduction to Data Mining\n",
    "Understanding Machine Learning\n",
    "Supervised and Unsupervised Machine Learning Algorithms\n",
    "K- means clustering\n",
    "Module 8- Project work   (8)\n",
    "2 Real-time projects"
   ]
  }
 ],
 "metadata": {
  "kernelspec": {
   "display_name": "R",
   "language": "R",
   "name": "ir"
  },
  "language_info": {
   "codemirror_mode": "r",
   "file_extension": ".r",
   "mimetype": "text/x-r-source",
   "name": "R",
   "pygments_lexer": "r",
   "version": "3.4.3"
  }
 },
 "nbformat": 4,
 "nbformat_minor": 2
}
