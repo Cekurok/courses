{
 "cells": [
  {
   "cell_type": "code",
   "execution_count": null,
   "metadata": {},
   "outputs": [],
   "source": [
    "Module 5- Exploratory Data Analysis   (4)\n",
    "Objectives\n",
    "\n",
    "In this module, you will learn that exploratory data analysis is an important step in the analysis.\n",
    "EDA is for seeing what the data can tell us beyond the formal modeling or hypothesis. You will also learn about the various tasks involved in a typical EDA process.\n",
    "Topics\n",
    "\n",
    "Box plot\n",
    "Histogram\n",
    "Pareto charts\n",
    "Pie graph\n",
    "Line chart\n",
    "Scatterplot\n",
    "Developing Graphs"
   ]
  }
 ],
 "metadata": {
  "kernelspec": {
   "display_name": "R",
   "language": "R",
   "name": "ir"
  },
  "language_info": {
   "codemirror_mode": "r",
   "file_extension": ".r",
   "mimetype": "text/x-r-source",
   "name": "R",
   "pygments_lexer": "r",
   "version": "3.4.3"
  }
 },
 "nbformat": 4,
 "nbformat_minor": 2
}
