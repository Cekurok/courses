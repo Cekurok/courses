{
 "cells": [
  {
   "cell_type": "code",
   "execution_count": null,
   "metadata": {},
   "outputs": [],
   "source": [
    "Module 6- Basics of Statistics & Linear & Logistic Regression   (5)\n",
    "Objectives\n",
    "\n",
    "This module touches the base of Descriptive and Inferential Statistics and Probabilities & ‘Regression Techniques’.\n",
    "Linear and logistic regression is explained from the basics with the examples and it is implemented in R using two case studies dedicated to each type of Regression discussed.\n",
    "Topics\n",
    "\n",
    "Basics of Statistics\n",
    "Inferencial statistics\n",
    "Probability\n",
    "Hypothesis\n",
    "Standard deviation\n",
    "Outliers\n",
    "Correlation\n",
    "Linear & Logistic Regression"
   ]
  }
 ],
 "metadata": {
  "kernelspec": {
   "display_name": "R",
   "language": "R",
   "name": "ir"
  },
  "language_info": {
   "codemirror_mode": "r",
   "file_extension": ".r",
   "mimetype": "text/x-r-source",
   "name": "R",
   "pygments_lexer": "r",
   "version": "3.4.3"
  }
 },
 "nbformat": 4,
 "nbformat_minor": 2
}
