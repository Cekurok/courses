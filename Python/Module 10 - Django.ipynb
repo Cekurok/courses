{
 "cells": [
  {
   "cell_type": "code",
   "execution_count": null,
   "metadata": {},
   "outputs": [],
   "source": [
    "Session 10: Django\n",
    "Django overview\n",
    "Creating a project\n",
    "Apps life cycle\n",
    "Admin interface\n",
    "Creating views\n",
    "URL Mapping\n",
    "Template system\n",
    "Models\n",
    "Form details\n",
    "Testing\n",
    "Page redirection\n",
    "Sending Emails\n",
    "Deploying Django framework\n",
    "Generic views\n",
    "Form processing\n",
    "File uploading\n",
    "Cookie handling\n",
    "Sessions, caching and comments\n",
    "RSS,AJAX"
   ]
  }
 ],
 "metadata": {
  "kernelspec": {
   "display_name": "Python 3",
   "language": "python",
   "name": "python3"
  },
  "language_info": {
   "codemirror_mode": {
    "name": "ipython",
    "version": 3
   },
   "file_extension": ".py",
   "mimetype": "text/x-python",
   "name": "python",
   "nbconvert_exporter": "python",
   "pygments_lexer": "ipython3",
   "version": "3.6.5"
  }
 },
 "nbformat": 4,
 "nbformat_minor": 2
}
