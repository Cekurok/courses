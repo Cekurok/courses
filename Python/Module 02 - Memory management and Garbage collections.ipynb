{
 "cells": [
  {
   "cell_type": "code",
   "execution_count": null,
   "metadata": {},
   "outputs": [],
   "source": [
    "Session 2: Memory management and Garbage collections\n",
    "Object creation and deletion\n",
    "Object properties\n",
    "Data Types and Operations\n",
    "Numbers\n",
    "Strings\n",
    "List\n",
    "Tuple\n",
    "Dictionary\n",
    "Other Core Types"
   ]
  }
 ],
 "metadata": {
  "kernelspec": {
   "display_name": "Python 3",
   "language": "python",
   "name": "python3"
  },
  "language_info": {
   "codemirror_mode": {
    "name": "ipython",
    "version": 3
   },
   "file_extension": ".py",
   "mimetype": "text/x-python",
   "name": "python",
   "nbconvert_exporter": "python",
   "pygments_lexer": "ipython3",
   "version": "3.6.5"
  }
 },
 "nbformat": 4,
 "nbformat_minor": 2
}
