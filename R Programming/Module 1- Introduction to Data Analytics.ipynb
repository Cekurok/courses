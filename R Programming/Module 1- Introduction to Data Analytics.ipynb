{
 "cells": [
  {
   "cell_type": "markdown",
   "metadata": {},
   "source": [
    "Objectives:\n",
    "\n",
    "This module introduces you to some of the important keywords in R like Business Intelligence, Business Analytics, Data and Information.\n",
    "You can also learn how R can play an important role in solving complex analytical problems.\n",
    "This module tells you what is R and how it is used by the giants like Google, Facebook, etc.\n",
    "Also, you will learn use of ‘R’ in the industry, this module also helps you compare R with other software in analytics, install R and its packages.\n",
    "Topics\n",
    "\n"
   ]
  },
  {
   "cell_type": "markdown",
   "metadata": {},
   "source": [
    "# Table of contents\n",
    "1. [Business Analytics, Data, Information](#rp 1)\n",
    "Understanding Business Analytics and R\n",
    "Compare R with other software in analytics\n",
    "Install R\n",
    "Perform basic operations in R using command line\n",
    "Learn the use of IDE R Studio\n",
    "Use the ‘R help’ feature in R"
   ]
  },
  {
   "cell_type": "markdown",
   "metadata": {},
   "source": [
    "## Business Analytics, Data, Information\n",
    "<a id = \"rp 1\" ></a>"
   ]
  }
 ],
 "metadata": {
  "kernelspec": {
   "display_name": "R",
   "language": "R",
   "name": "ir"
  },
  "language_info": {
   "codemirror_mode": "r",
   "file_extension": ".r",
   "mimetype": "text/x-r-source",
   "name": "R",
   "pygments_lexer": "r",
   "version": "3.4.3"
  }
 },
 "nbformat": 4,
 "nbformat_minor": 2
}
