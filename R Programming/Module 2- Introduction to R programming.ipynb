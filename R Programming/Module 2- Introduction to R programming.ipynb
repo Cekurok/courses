{
 "cells": [
  {
   "cell_type": "code",
   "execution_count": null,
   "metadata": {},
   "outputs": [],
   "source": [
    "Objectives:\n",
    "\n",
    "This module starts from the basics of R programming like datatypes and functions.\n",
    "In this module, we present a scenario and let you think about the options to resolve it, such as which datatype should one to store the variable or which R function that can help you in this scenario.\n",
    "You will also learn how to apply the ‘join’ function in SQL.\n",
    "Topics\n",
    "\n",
    "Variables in R\n",
    "Scalars\n",
    "Vectors\n",
    "Matrices\n",
    "List\n",
    "Data frames\n",
    "Using c, Cbind, Rbind, attach and detach functions in R\n",
    "Factors"
   ]
  }
 ],
 "metadata": {
  "kernelspec": {
   "display_name": "R",
   "language": "R",
   "name": "ir"
  },
  "language_info": {
   "codemirror_mode": "r",
   "file_extension": ".r",
   "mimetype": "text/x-r-source",
   "name": "R",
   "pygments_lexer": "r",
   "version": "3.4.3"
  }
 },
 "nbformat": 4,
 "nbformat_minor": 2
}
