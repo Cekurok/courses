{
 "cells": [
  {
   "cell_type": "code",
   "execution_count": null,
   "metadata": {},
   "outputs": [],
   "source": [
    "Objectives:\n",
    "\n",
    "This module touches the base Statistics, Machine learning techniques used in the Industry and will cover case studies.\n",
    "Topics\n",
    "\n",
    "Standard deviation\n",
    "Outlier\n",
    "Linear regression\n",
    "Multiple regression\n",
    "Logistic regressions\n",
    "Correlation"
   ]
  }
 ],
 "metadata": {
  "kernelspec": {
   "display_name": "R",
   "language": "R",
   "name": "ir"
  },
  "language_info": {
   "codemirror_mode": "r",
   "file_extension": ".r",
   "mimetype": "text/x-r-source",
   "name": "R",
   "pygments_lexer": "r",
   "version": "3.4.3"
  }
 },
 "nbformat": 4,
 "nbformat_minor": 2
}
