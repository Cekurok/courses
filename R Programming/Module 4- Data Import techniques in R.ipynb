{
 "cells": [
  {
   "cell_type": "code",
   "execution_count": null,
   "metadata": {},
   "outputs": [],
   "source": [
    "Objectives:\n",
    "\n",
    "This module tells you about the versatility and robustness of R which can take-up data in a variety of formats, be it from a csv file to the data scraped from a website.\n",
    "This module teaches you various data importing techniques in R.\n",
    "Topics\n",
    "\n",
    "Reading Data\n",
    "Writing Data\n",
    "Basic SQL queries in R\n",
    "Web Scraping"
   ]
  }
 ],
 "metadata": {
  "kernelspec": {
   "display_name": "R",
   "language": "R",
   "name": "ir"
  },
  "language_info": {
   "codemirror_mode": "r",
   "file_extension": ".r",
   "mimetype": "text/x-r-source",
   "name": "R",
   "pygments_lexer": "r",
   "version": "3.4.3"
  }
 },
 "nbformat": 4,
 "nbformat_minor": 2
}
