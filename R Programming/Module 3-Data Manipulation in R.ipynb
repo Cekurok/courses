{
 "cells": [
  {
   "cell_type": "code",
   "execution_count": null,
   "metadata": {},
   "outputs": [],
   "source": [
    "Objectives:\n",
    "\n",
    "In this module, we start with a sample of a dirty data set and perform Data Cleaning on it, resulting in a data set, which is ready for any analysis.\n",
    "Thus using and exploring the popular functions required to clean data in R.\n",
    "Topics\n",
    "\n",
    "Data sorting\n",
    "Find and remove duplicates record\n",
    "Cleaning data\n",
    "Recoding data\n",
    "Merging data\n",
    "Slicing of Data\n",
    "Merging Data\n",
    "Apply functions"
   ]
  }
 ],
 "metadata": {
  "kernelspec": {
   "display_name": "R",
   "language": "R",
   "name": "ir"
  },
  "language_info": {
   "codemirror_mode": "r",
   "file_extension": ".r",
   "mimetype": "text/x-r-source",
   "name": "R",
   "pygments_lexer": "r",
   "version": "3.4.3"
  }
 },
 "nbformat": 4,
 "nbformat_minor": 2
}
